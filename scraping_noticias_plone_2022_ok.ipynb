{
 "cells": [
  {
   "cell_type": "markdown",
   "id": "dbee4ec6",
   "metadata": {},
   "source": [
    "# NOTÍCIAS 2022\n",
    "\n",
    "Planilha salva no Google Sheets:\n",
    "\n",
    "https://docs.google.com/spreadsheets/d/1X2rxOAnLpC6gwFhm16wWkA-YvDYpq6l137BJb7dFHMM/edit#gid=1484081685\n"
   ]
  },
  {
   "cell_type": "markdown",
   "id": "b3728fba",
   "metadata": {},
   "source": [
    "Bibliotecas:\n",
    "    - BeautifulSoup\n",
    "    - Pandas\n",
    "    - openpyxl\n",
    "    - copy\n",
    "    - reduce\n",
    "    \n",
    "1. Extrair links das notícias com Selenium:\n",
    "    - links2022.xlsx\n",
    "    \n",
    "2. Importar links das notícias (para o caso de editar no TRE-SP e não ter acesso ao Selenium):\n",
    "    \n",
    "3. Acessar links e extrair informações, armazenadas em uma lista de dicionários para conversão em dataframe:\n",
    "    - data\n",
    "    - theme (dicionario vazio)\n",
    "    - tag\n",
    "    - title\n",
    "    - channel (dicionario 'Site')\n",
    "    - tempo de leitura\n",
    "    - horário de publicação\n",
    "    - subtítulo\n",
    "    - conteúdo\n",
    "    - lista com as notícias relacionadas (mesmo modelo das tags)\n",
    "\n",
    "4. Gerar planilha com as informações"
   ]
  },
  {
   "cell_type": "markdown",
   "id": "53c7a9c0",
   "metadata": {},
   "source": [
    "### Bibliotecas"
   ]
  },
  {
   "cell_type": "code",
   "execution_count": 2,
   "id": "7fcb1f1c",
   "metadata": {},
   "outputs": [],
   "source": [
    "from urllib.request import Request, urlopen, urlretrieve\n",
    "from urllib.error import URLError, HTTPError\n",
    "from bs4 import BeautifulSoup\n",
    "import pandas as pd\n",
    "import openpyxl\n",
    "import copy\n",
    "from functools import reduce\n",
    "from selenium import webdriver\n",
    "from selenium.webdriver.chrome.service import Service\n",
    "from webdriver_manager.chrome import ChromeDriverManager\n",
    "from selenium.webdriver.common.by import By\n",
    "from selenium.webdriver.common.keys import Keys\n",
    "import time\n",
    "\n",
    "servico = Service(ChromeDriverManager().install())\n",
    "driver = webdriver.Chrome(service=servico)"
   ]
  },
  {
   "cell_type": "markdown",
   "id": "aa889ed0",
   "metadata": {},
   "source": [
    "### 1. Extração dos links das notícias"
   ]
  },
  {
   "cell_type": "code",
   "execution_count": null,
   "id": "934d3262",
   "metadata": {},
   "outputs": [],
   "source": [
    "# URL para o ano de 2022:\n",
    "driver.get('https://www.tre-sp.jus.br/comunicacao/noticias?year=2022&month=&period=&formData=')\n",
    "\n",
    "#iterador para rolar a página de notícias \n",
    "for i in range(200):\n",
    "    try:\n",
    "        driver.find_element(By.XPATH, '//*[@id=\"news-list-read-more-button\"]').click()\n",
    "        time.sleep(10)\n",
    "    except:\n",
    "        pass\n",
    "\n",
    "#lista de notícias \n",
    "\n",
    "news = driver.find_elements(By.CLASS_NAME, 'news-list-title')\n",
    "\n",
    "# variavel para iterar com for e pegar links\n",
    "\n",
    "list_links = []\n",
    "for n in news:\n",
    "    link = n.find_element(By.TAG_NAME, 'a').get_attribute('href')\n",
    "    list_links.append(link)\n",
    "    \n",
    "# dicionário para criar dataframe com os links e, em seguida, exportar para excel\n",
    "df_list_links = pd.DataFrame({'LINK': list_links})\n",
    "df_list_links.to_excel('data/links2022.xlsx', index=False)\n"
   ]
  },
  {
   "cell_type": "markdown",
   "id": "fa0391bb",
   "metadata": {},
   "source": [
    "### 2. Importar links das notícias (para o caso de editar no TRE-SP e não ter acesso ao Selenium)"
   ]
  },
  {
   "cell_type": "code",
   "execution_count": 3,
   "id": "b4e2fe9c",
   "metadata": {},
   "outputs": [],
   "source": [
    "links = pd.read_excel('data/links2022.xlsx')"
   ]
  },
  {
   "cell_type": "markdown",
   "id": "8fc59817",
   "metadata": {},
   "source": [
    "### 3. Acessar links e extrair informações"
   ]
  },
  {
   "cell_type": "code",
   "execution_count": 5,
   "id": "40e957a7",
   "metadata": {},
   "outputs": [],
   "source": [
    "list_dict_links = []\n",
    "dict_to_df = {}\n",
    "\n",
    "for l in links['LINK']:\n",
    "\n",
    "    response = urlopen(l)\n",
    "    html = response.read().decode('utf-8')\n",
    "    soup = BeautifulSoup(html, 'html.parser')\n",
    "\n",
    "    dict_link = {}\n",
    "    \n",
    "    #data\n",
    "    dict_link['date'] = soup.find('div', {\"class\": \"data-hora\"}).get_text().split()[0]\n",
    "    dict_to_df['DATA'] = dict_link['date']\n",
    "    \n",
    "    #hora\n",
    "    dict_link['hour'] = soup.find('div', {\"class\": \"data-hora\"}).get_text().split()[1]\n",
    "    dict_to_df['HORA'] = dict_link['hour']\n",
    "\n",
    "    #título\n",
    "    title = soup.find('h2', {\"class\": \"noticia-titulo\"})\n",
    "    dict_link['title'] = soup.find('h2', {\"class\": \"noticia-titulo\"}).get_text()\n",
    "    dict_to_df['TÍTULO DA MATÉRIA'] = dict_link['title']\n",
    "\n",
    "    #subtítulo\n",
    "    dict_link['subtitle'] = title.findNext().get_text()\n",
    "    dict_to_df['SUBTÍTULO'] = dict_link['subtitle']\n",
    "\n",
    "    #assunto/tema\n",
    "    dict_link['theme'] = None\n",
    "    dict_to_df['TEMA'] = dict_link['theme']\n",
    "\n",
    "    #tags\n",
    "    tags = []\n",
    "    tags_name = soup.findAll('li', {\"class\": \"tag\"})\n",
    "    for i in tags_name:\n",
    "        tag_text = i.findNext().get('title').replace('Link: ', '')\n",
    "        tags.append(tag_text)\n",
    "\n",
    "    tags_list = (tags)\n",
    "    tc = reduce(lambda x, y: x + ' , ' + y, tags_list)\n",
    "\n",
    "    dict_link['tags'] = tc\n",
    "    dict_to_df['TAGS'] = dict_link['tags']\n",
    "\n",
    "    #tempo de leitura:\n",
    "    time = soup.find('div', {\"class\": \"tempo-leitura\"}).get_text().split()\n",
    "\n",
    "    for i in time:\n",
    "        try:\n",
    "            time.remove('de')\n",
    "            time.remove('leitura')\n",
    "        except:\n",
    "            pass\n",
    "\n",
    "\n",
    "    #tempo de leitura: removendo caracteres e convertendo para número\n",
    "\n",
    "    chars = ['m','s']\n",
    "\n",
    "    chars = set(chars)\n",
    "\n",
    "    list_time = []\n",
    "\n",
    "    for t in time:\n",
    "        if t[2] == 'm':\n",
    "            m = int(''.join(c for c in t if c not in chars))\n",
    "            minutes = m * 60\n",
    "            list_time.append(minutes)\n",
    "        if t[2] == 's':\n",
    "            seg = int(''.join(c for c in t if c not in chars))\n",
    "            list_time.append(seg)\n",
    "\n",
    "    reading_time = sum(list_time)\n",
    "\n",
    "    dict_link['reading time'] = reading_time\n",
    "    dict_to_df['TEMPO DE LEITURA'] = dict_link['reading time'] \n",
    "    \n",
    "\n",
    "    #link\n",
    "    dict_link['link'] = l\n",
    "    dict_to_df['LINK'] = l\n",
    "\n",
    "    #conteúdo - PROCURAR UMA MANEIRA DE FORMATAR\n",
    "    dict_link['content'] = soup.find('div', {\"class\": \"tab-pane active\"}).get_text()\n",
    "    dict_to_df['CONTEÚDO'] = dict_link['content']\n",
    "\n",
    "\n",
    "    list_dict_links.append(dict_link)"
   ]
  },
  {
   "cell_type": "markdown",
   "id": "c45f2637",
   "metadata": {},
   "source": [
    "### 4. Gerar planilha com as notícias"
   ]
  },
  {
   "cell_type": "code",
   "execution_count": 10,
   "id": "9d0c6984",
   "metadata": {},
   "outputs": [],
   "source": [
    "df = pd.DataFrame(list_dict_links)\n",
    "df.to_excel('output/scraping_noticias_2022.xlsx')"
   ]
  },
  {
   "cell_type": "code",
   "execution_count": 2,
   "id": "dc787893",
   "metadata": {},
   "outputs": [],
   "source": [
    "teste = 'teste'"
   ]
  },
  {
   "cell_type": "code",
   "execution_count": null,
   "id": "953d7ad9",
   "metadata": {},
   "outputs": [],
   "source": [
    "teste_2 = 'teste_2'"
   ]
  }
 ],
 "metadata": {
  "kernelspec": {
   "display_name": "Python 3 (ipykernel)",
   "language": "python",
   "name": "python3"
  },
  "language_info": {
   "codemirror_mode": {
    "name": "ipython",
    "version": 3
   },
   "file_extension": ".py",
   "mimetype": "text/x-python",
   "name": "python",
   "nbconvert_exporter": "python",
   "pygments_lexer": "ipython3",
   "version": "3.9.13"
  }
 },
 "nbformat": 4,
 "nbformat_minor": 5
}
