{
 "cells": [
  {
   "cell_type": "markdown",
   "id": "53c7a9c0",
   "metadata": {},
   "source": [
    "### Bibliotecas"
   ]
  },
  {
   "cell_type": "code",
   "execution_count": 1,
   "id": "7fcb1f1c",
   "metadata": {},
   "outputs": [],
   "source": [
    "from urllib.request import Request, urlopen, urlretrieve\n",
    "from urllib.error import URLError, HTTPError\n",
    "from bs4 import BeautifulSoup\n",
    "import pandas as pd\n",
    "import openpyxl\n",
    "import copy\n",
    "from functools import reduce\n",
    "from selenium import webdriver\n",
    "from selenium.webdriver.chrome.service import Service\n",
    "from webdriver_manager.chrome import ChromeDriverManager\n",
    "from selenium.webdriver.common.by import By\n",
    "from selenium.webdriver.common.keys import Keys\n",
    "import time\n",
    "import re\n",
    "from selenium.webdriver.support.wait import WebDriverWait\n",
    "from selenium.webdriver.support import expected_conditions as EC\n"
   ]
  },
  {
   "cell_type": "markdown",
   "id": "aa889ed0",
   "metadata": {},
   "source": [
    "### 1. Extração dos links das notícias"
   ]
  },
  {
   "cell_type": "code",
   "execution_count": 2,
   "id": "b34e9da1",
   "metadata": {
    "scrolled": true
   },
   "outputs": [
    {
     "name": "stdout",
     "output_type": "stream",
     "text": [
      "digite a sigla do tribunal da Justiça Eleitoral:tre-sp\n",
      "Digite o ano:2023\n",
      "digite o mês ou pressione enter para seguir adiante:\n"
     ]
    }
   ],
   "source": [
    "#Tribunal\n",
    "institution = input('digite a sigla do tribunal da Justiça Eleitoral:').lower().strip()\n",
    "institution_pattern = re.compile('(tse)|(tre-(ac|al|ap|am|ba|ce|df|es|go|ma|mt|ms|mg|pa|pb|pr|pe|pi|rj|rn|rs|ro|rr|sc|sp|se|to)$)')\n",
    "match = institution_pattern.match(institution)\n",
    "\n",
    "while not match:\n",
    "    print('A sigla não é válida. Digite novamente.')\n",
    "    institution = input('digite a sigla do tribunal da Justiça Eleitoral:').lower().strip()\n",
    "    institution_pattern = re.compile('(tse)|(tre-(ac|al|ap|am|ba|ce|df|es|go|ma|mt|ms|mg|pa|pb|pr|pe|pi|rj|rn|rs|ro|rr|sc|sp|se|to)$)')\n",
    "    match = institution_pattern.match(institution)\n",
    "\n",
    "# Mês e ano\n",
    "year = input('Digite o ano:').strip()\n",
    "year_pattern = re.compile('[2][0][2][123]')\n",
    "match = year_pattern.match(year)\n",
    "\n",
    "while not match:\n",
    "    print('O ano não é válido. Digite novamente.')\n",
    "    year = input('digite o ano:').strip()\n",
    "    year_pattern = re.compile('[2][0][2][123]')\n",
    "    match = year_pattern.match(year)\n",
    "    \n",
    "\n",
    "    \n",
    "\n",
    "month = input('digite o mês ou pressione enter para seguir adiante:').lower().strip()\n",
    "months = ['', 'janeiro', 'fevereiro', 'março', 'abril', \n",
    "          'maio', 'junho', 'julho', 'agosto', \n",
    "          'setembro', 'outubro', 'novembro', 'dezembro']\n",
    "          \n",
    "while month not in months:\n",
    "    print('O mês não é válido. Digite novamente')\n",
    "    month = input('digite o mês:').lower().strip()\n",
    "    \n",
    "if month == '':\n",
    "    month = 'mês'\n",
    "    "
   ]
  },
  {
   "cell_type": "code",
   "execution_count": 3,
   "id": "ae3420ad",
   "metadata": {},
   "outputs": [],
   "source": [
    "#driver\n",
    "service = Service(ChromeDriverManager().install())\n",
    "driver = webdriver.Chrome(service=service)\n"
   ]
  },
  {
   "cell_type": "code",
   "execution_count": 4,
   "id": "934d3262",
   "metadata": {
    "scrolled": false
   },
   "outputs": [],
   "source": [
    "url = f'https://www.{institution}.jus.br/comunicacao/noticias'\n",
    "driver.get(url)\n",
    "if institution == 'tse':\n",
    "    WebDriverWait(driver, 10).until(EC.element_to_be_clickable((By.XPATH, '//*[@id=\"modal-lgpd\"]/div/div/div[2]/button'))).click()\n",
    "else:\n",
    "    WebDriverWait(driver, 10).until(EC.element_to_be_clickable((By.XPATH, '//*[@id=\"modal-lgpd\"]/div/div/div[3]/button'))).click()\n",
    "driver.find_element(By.ID, 'ano-noticias').send_keys(year)\n",
    "driver.find_element(By.ID, 'mes-noticias').send_keys(month)\n",
    "driver.find_element(By.XPATH, '//*[@id=\"form-navagacao-noticias\"]/fieldset/button').click()\n",
    "\n",
    "#iterador para rolar a página de notícias \n",
    "for i in range(1000):\n",
    "    try:\n",
    "        driver.find_element(By.XPATH, '//*[@id=\"news-list-read-more-button\"]').click()\n",
    "        WebDriverWait(driver, 10).until(EC.element_to_be_clickable((By.XPATH, '//*[@id=\"news-list-read-more-button\"]'))).click()\n",
    "    except:\n",
    "        pass\n",
    "\n",
    "#lista de notícias \n",
    "news = driver.find_elements(By.CLASS_NAME, 'news-list-title')\n",
    "\n",
    "# lista de links das noticias\n",
    "links = [n.find_element(By.TAG_NAME, 'a').get_attribute('href') for n in news]\n",
    "\n"
   ]
  },
  {
   "cell_type": "code",
   "execution_count": 5,
   "id": "726355be",
   "metadata": {},
   "outputs": [],
   "source": [
    "# dicionário para criar dataframe com os links (para rodar em máquinas sem autorização para usar o Selenium)\n",
    "df_links = pd.DataFrame({'INDEX': range(len(links)),\n",
    "                         'LINK': links})\n",
    "\n",
    "# renomeando o 'mês':\n",
    "if month == 'mês':\n",
    "    month = ''\n",
    "else:\n",
    "    month = '_' + month\n",
    "\n",
    "# exportando planilha de links\n",
    "df_links.to_excel(f'links_{institution}{month}_{year}.xlsx', index=False)\n",
    "\n",
    "    "
   ]
  },
  {
   "cell_type": "markdown",
   "id": "8fc59817",
   "metadata": {},
   "source": [
    "### 3. Acessar links e extrair informações"
   ]
  },
  {
   "cell_type": "code",
   "execution_count": 6,
   "id": "40e957a7",
   "metadata": {},
   "outputs": [],
   "source": [
    "list_dict_links = []\n",
    "\n",
    "for l in df_links['LINK']:\n",
    "\n",
    "    response = urlopen(l)\n",
    "    html = response.read().decode('utf-8')\n",
    "    soup = BeautifulSoup(html, 'html.parser')\n",
    "\n",
    "    dict_link = {}\n",
    "    \n",
    "    #data\n",
    "    dict_link['DATA'] = soup.find('div', {\"class\": \"data-hora\"}).get_text().split()[0]\n",
    "    \n",
    "    #hora\n",
    "    dict_link['HORA'] = soup.find('div', {\"class\": \"data-hora\"}).get_text().split()[1]\n",
    "\n",
    "    #título\n",
    "    title = soup.find('h2', {\"class\": \"noticia-titulo\"})\n",
    "    dict_link['TÍTULO DA MATÉRIA'] = soup.find('h2', {\"class\": \"noticia-titulo\"}).get_text()\n",
    "\n",
    "    #subtítulo\n",
    "    dict_link['SUBTÍTULO'] = title.findNext().get_text()\n",
    "\n",
    "    #assunto/tema\n",
    "    dict_link['ASSUNTO/TEMA'] = None\n",
    "\n",
    "    #tags\n",
    "    tags = []\n",
    "    tags_name = soup.findAll('li', {\"class\": \"tag\"})\n",
    "    for i in tags_name:\n",
    "        tag_text = i.findNext().get('title').replace('Link: ', '')\n",
    "        tags.append(tag_text)\n",
    "\n",
    "    tags_list = (tags)\n",
    "    tc = reduce(lambda x, y: x + ' , ' + y, tags_list)\n",
    "\n",
    "    dict_link['TAGS'] = tc\n",
    "\n",
    "    #tempo de leitura:\n",
    "    time = soup.find('div', {\"class\": \"tempo-leitura\"}).get_text().split()\n",
    "\n",
    "    for i in time:\n",
    "        try:\n",
    "            time.remove('de')\n",
    "            time.remove('leitura')\n",
    "        except:\n",
    "            pass\n",
    "\n",
    "\n",
    "    #tempo de leitura: removendo caracteres e convertendo para número\n",
    "\n",
    "    chars = ['m','s']\n",
    "\n",
    "    chars = set(chars)\n",
    "\n",
    "    list_time = []\n",
    "\n",
    "    for t in time:\n",
    "        if t[2] == 'm':\n",
    "            m = int(''.join(c for c in t if c not in chars))\n",
    "            minutes = m * 60\n",
    "            list_time.append(minutes)\n",
    "        if t[2] == 's':\n",
    "            seg = int(''.join(c for c in t if c not in chars))\n",
    "            list_time.append(seg)\n",
    "\n",
    "    reading_time = sum(list_time)\n",
    "\n",
    "    dict_link['TEMPO DE LEITURA (em segundos)'] = reading_time   \n",
    "\n",
    "    #link\n",
    "    dict_link['LINK'] = l\n",
    "\n",
    "    #conteúdo das notícias\n",
    "    dict_link['CONTEÚDO'] = soup.find('div', {\"class\": \"tab-pane active\"}).get_text()\n",
    "    \n",
    "    #adicionando dicionário na lista de notícias\n",
    "    list_dict_links.append(dict_link)\n",
    "    \n",
    "### 4. Gerar planilha com as notícias\n",
    "\n",
    "if month == 'mês':\n",
    "    month = ''\n",
    "else:\n",
    "    month = '_' + month\n",
    "\n",
    "date = year + month\n",
    "\n",
    "df = pd.DataFrame(list_dict_links)\n",
    "df.to_excel(f'noticias_{institution}_{month}_{year}.xlsx', index=False)"
   ]
  },
  {
   "cell_type": "code",
   "execution_count": null,
   "id": "9f1e7c05",
   "metadata": {},
   "outputs": [],
   "source": []
  }
 ],
 "metadata": {
  "kernelspec": {
   "display_name": "Python 3 (ipykernel)",
   "language": "python",
   "name": "python3"
  },
  "language_info": {
   "codemirror_mode": {
    "name": "ipython",
    "version": 3
   },
   "file_extension": ".py",
   "mimetype": "text/x-python",
   "name": "python",
   "nbconvert_exporter": "python",
   "pygments_lexer": "ipython3",
   "version": "3.9.13"
  }
 },
 "nbformat": 4,
 "nbformat_minor": 5
}
